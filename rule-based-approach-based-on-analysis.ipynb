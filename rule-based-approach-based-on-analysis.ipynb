{
 "cells": [
  {
   "cell_type": "markdown",
   "metadata": {
    "papermill": {
     "duration": 0.024553,
     "end_time": "2020-12-05T05:21:07.997638",
     "exception": false,
     "start_time": "2020-12-05T05:21:07.973085",
     "status": "completed"
    },
    "tags": []
   },
   "source": [
    "# Introduction\n",
    "\n",
    "In this notebook, I will try to focus on the factors that cause a news to be fake news. Here I will try to do the analysis of the dataset and then try to build a rule based apporoach for news classification. \n",
    "\n",
    "# NO ML/DL is USED.\n",
    "\n",
    "# Dataset\n",
    "\n",
    "* train.csv: A full training dataset with the following attributes:\n",
    "* id: unique id for a news article\n",
    "* title: the title of a news article\n",
    "* author: author of the news article\n",
    "* text: the text of the article; could be incomplete\n",
    "* label: a label that marks the article as potentially unreliable. Where 1: unreliable and 0: reliable.\n",
    "\n",
    "# Contents\n",
    "\n",
    "* Introduction\n",
    "* Dataset\n",
    "* Importing important libraries\n",
    "* Reading dataset\n",
    "* Analysis\n",
    "* Rules\n",
    "* Submission file\n",
    "* Conclusion"
   ]
  },
  {
   "cell_type": "code",
   "execution_count": 1,
   "metadata": {
    "_cell_guid": "b1076dfc-b9ad-4769-8c92-a6c4dae69d19",
    "_uuid": "8f2839f25d086af736a60e9eeb907d3b93b6e0e5",
    "execution": {
     "iopub.execute_input": "2020-12-05T05:21:08.053991Z",
     "iopub.status.busy": "2020-12-05T05:21:08.052965Z",
     "iopub.status.idle": "2020-12-05T05:21:08.058916Z",
     "shell.execute_reply": "2020-12-05T05:21:08.058005Z"
    },
    "papermill": {
     "duration": 0.03703,
     "end_time": "2020-12-05T05:21:08.059060",
     "exception": false,
     "start_time": "2020-12-05T05:21:08.022030",
     "status": "completed"
    },
    "tags": []
   },
   "outputs": [
    {
     "name": "stdout",
     "output_type": "stream",
     "text": [
      "/kaggle/input/fake-news/submit.csv\n",
      "/kaggle/input/fake-news/train.csv\n",
      "/kaggle/input/fake-news/test.csv\n"
     ]
    }
   ],
   "source": [
    "# This Python 3 environment comes with many helpful analytics libraries installed\n",
    "# It is defined by the kaggle/python Docker image: https://github.com/kaggle/docker-python\n",
    "# For example, here's several helpful packages to load\n",
    "\n",
    "import numpy as np # linear algebra\n",
    "import pandas as pd # data processing, CSV file I/O (e.g. pd.read_csv)\n",
    "\n",
    "# Input data files are available in the read-only \"../input/\" directory\n",
    "# For example, running this (by clicking run or pressing Shift+Enter) will list all files under the input directory\n",
    "\n",
    "import os\n",
    "for dirname, _, filenames in os.walk('/kaggle/input'):\n",
    "    for filename in filenames:\n",
    "        print(os.path.join(dirname, filename))\n",
    "\n",
    "# You can write up to 20GB to the current directory (/kaggle/working/) that gets preserved as output when you create a version using \"Save & Run All\" \n",
    "# You can also write temporary files to /kaggle/temp/, but they won't be saved outside of the current session"
   ]
  },
  {
   "cell_type": "markdown",
   "metadata": {
    "papermill": {
     "duration": 0.023712,
     "end_time": "2020-12-05T05:21:08.107749",
     "exception": false,
     "start_time": "2020-12-05T05:21:08.084037",
     "status": "completed"
    },
    "tags": []
   },
   "source": [
    "# Importing Libraries"
   ]
  },
  {
   "cell_type": "code",
   "execution_count": 2,
   "metadata": {
    "_cell_guid": "79c7e3d0-c299-4dcb-8224-4455121ee9b0",
    "_uuid": "d629ff2d2480ee46fbb7e2d37f6b5fab8052498a",
    "execution": {
     "iopub.execute_input": "2020-12-05T05:21:08.162652Z",
     "iopub.status.busy": "2020-12-05T05:21:08.161615Z",
     "iopub.status.idle": "2020-12-05T05:21:08.165066Z",
     "shell.execute_reply": "2020-12-05T05:21:08.164340Z"
    },
    "papermill": {
     "duration": 0.033556,
     "end_time": "2020-12-05T05:21:08.165191",
     "exception": false,
     "start_time": "2020-12-05T05:21:08.131635",
     "status": "completed"
    },
    "tags": []
   },
   "outputs": [],
   "source": [
    "import numpy as np \n",
    "import pandas as pd\n",
    "from collections import Counter\n",
    "import math\n",
    "import random"
   ]
  },
  {
   "cell_type": "markdown",
   "metadata": {
    "papermill": {
     "duration": 0.02397,
     "end_time": "2020-12-05T05:21:08.213507",
     "exception": false,
     "start_time": "2020-12-05T05:21:08.189537",
     "status": "completed"
    },
    "tags": []
   },
   "source": [
    "# Load Dataset"
   ]
  },
  {
   "cell_type": "code",
   "execution_count": 3,
   "metadata": {
    "execution": {
     "iopub.execute_input": "2020-12-05T05:21:08.270283Z",
     "iopub.status.busy": "2020-12-05T05:21:08.269454Z",
     "iopub.status.idle": "2020-12-05T05:21:11.063585Z",
     "shell.execute_reply": "2020-12-05T05:21:11.062250Z"
    },
    "papermill": {
     "duration": 2.826068,
     "end_time": "2020-12-05T05:21:11.063790",
     "exception": false,
     "start_time": "2020-12-05T05:21:08.237722",
     "status": "completed"
    },
    "tags": []
   },
   "outputs": [],
   "source": [
    "#reading all the files\n",
    "df = pd.read_csv(\"/kaggle/input/fake-news/train.csv\")\n",
    "df_test = pd.read_csv(\"/kaggle/input/fake-news/test.csv\")\n",
    "df_sub = pd.read_csv(\"/kaggle/input/fake-news/submit.csv\")"
   ]
  },
  {
   "cell_type": "markdown",
   "metadata": {
    "papermill": {
     "duration": 0.02476,
     "end_time": "2020-12-05T05:21:11.118422",
     "exception": false,
     "start_time": "2020-12-05T05:21:11.093662",
     "status": "completed"
    },
    "tags": []
   },
   "source": [
    "# Start Analysis"
   ]
  },
  {
   "cell_type": "code",
   "execution_count": 4,
   "metadata": {
    "execution": {
     "iopub.execute_input": "2020-12-05T05:21:11.180016Z",
     "iopub.status.busy": "2020-12-05T05:21:11.177634Z",
     "iopub.status.idle": "2020-12-05T05:21:11.191188Z",
     "shell.execute_reply": "2020-12-05T05:21:11.190545Z"
    },
    "papermill": {
     "duration": 0.047763,
     "end_time": "2020-12-05T05:21:11.191323",
     "exception": false,
     "start_time": "2020-12-05T05:21:11.143560",
     "status": "completed"
    },
    "tags": []
   },
   "outputs": [
    {
     "data": {
      "text/plain": [
       "1    10413\n",
       "0    10387\n",
       "Name: label, dtype: int64"
      ]
     },
     "execution_count": 4,
     "metadata": {},
     "output_type": "execute_result"
    }
   ],
   "source": [
    "df.label.value_counts()"
   ]
  },
  {
   "cell_type": "markdown",
   "metadata": {
    "papermill": {
     "duration": 0.024611,
     "end_time": "2020-12-05T05:21:11.241339",
     "exception": false,
     "start_time": "2020-12-05T05:21:11.216728",
     "status": "completed"
    },
    "tags": []
   },
   "source": [
    "# the dataset is balanced "
   ]
  },
  {
   "cell_type": "code",
   "execution_count": 5,
   "metadata": {
    "execution": {
     "iopub.execute_input": "2020-12-05T05:21:11.302149Z",
     "iopub.status.busy": "2020-12-05T05:21:11.301265Z",
     "iopub.status.idle": "2020-12-05T05:21:11.333022Z",
     "shell.execute_reply": "2020-12-05T05:21:11.332297Z"
    },
    "papermill": {
     "duration": 0.066652,
     "end_time": "2020-12-05T05:21:11.333166",
     "exception": false,
     "start_time": "2020-12-05T05:21:11.266514",
     "status": "completed"
    },
    "tags": []
   },
   "outputs": [
    {
     "data": {
      "text/plain": [
       "(4202, 1982, 2226)"
      ]
     },
     "execution_count": 5,
     "metadata": {},
     "output_type": "execute_result"
    }
   ],
   "source": [
    "len(df.author.unique()),len(df.author[df.label == 1].unique()),len(df.author[df.label == 0].unique())"
   ]
  },
  {
   "cell_type": "code",
   "execution_count": 6,
   "metadata": {
    "execution": {
     "iopub.execute_input": "2020-12-05T05:21:11.392465Z",
     "iopub.status.busy": "2020-12-05T05:21:11.391625Z",
     "iopub.status.idle": "2020-12-05T05:21:11.410448Z",
     "shell.execute_reply": "2020-12-05T05:21:11.409819Z"
    },
    "papermill": {
     "duration": 0.051612,
     "end_time": "2020-12-05T05:21:11.410593",
     "exception": false,
     "start_time": "2020-12-05T05:21:11.358981",
     "status": "completed"
    },
    "tags": []
   },
   "outputs": [
    {
     "data": {
      "text/plain": [
       "(1982, 2226)"
      ]
     },
     "execution_count": 6,
     "metadata": {},
     "output_type": "execute_result"
    }
   ],
   "source": [
    "df1 = df[df.label==1]\n",
    "fake_news_author = Counter(df1.author)\n",
    "df2 = df[df.label==0]\n",
    "reliable_news_authors = Counter(df2.author)\n",
    "len(fake_news_author),len(reliable_news_authors)"
   ]
  },
  {
   "cell_type": "code",
   "execution_count": 7,
   "metadata": {
    "execution": {
     "iopub.execute_input": "2020-12-05T05:21:11.470441Z",
     "iopub.status.busy": "2020-12-05T05:21:11.469407Z",
     "iopub.status.idle": "2020-12-05T05:21:11.475154Z",
     "shell.execute_reply": "2020-12-05T05:21:11.474339Z"
    },
    "papermill": {
     "duration": 0.038433,
     "end_time": "2020-12-05T05:21:11.475301",
     "exception": false,
     "start_time": "2020-12-05T05:21:11.436868",
     "status": "completed"
    },
    "tags": []
   },
   "outputs": [
    {
     "data": {
      "text/plain": [
       "6"
      ]
     },
     "execution_count": 7,
     "metadata": {},
     "output_type": "execute_result"
    }
   ],
   "source": [
    "unreliable_authors = fake_news_author.keys() & reliable_news_authors.keys()\n",
    "len(unreliable_authors)"
   ]
  },
  {
   "cell_type": "markdown",
   "metadata": {
    "papermill": {
     "duration": 0.026519,
     "end_time": "2020-12-05T05:21:11.528798",
     "exception": false,
     "start_time": "2020-12-05T05:21:11.502279",
     "status": "completed"
    },
    "tags": []
   },
   "source": [
    "# Only 6 authors are common in those who provide reliable vs fake news"
   ]
  },
  {
   "cell_type": "code",
   "execution_count": 8,
   "metadata": {
    "execution": {
     "iopub.execute_input": "2020-12-05T05:21:11.591163Z",
     "iopub.status.busy": "2020-12-05T05:21:11.589970Z",
     "iopub.status.idle": "2020-12-05T05:21:11.598008Z",
     "shell.execute_reply": "2020-12-05T05:21:11.597118Z"
    },
    "papermill": {
     "duration": 0.042171,
     "end_time": "2020-12-05T05:21:11.598169",
     "exception": false,
     "start_time": "2020-12-05T05:21:11.555998",
     "status": "completed"
    },
    "tags": []
   },
   "outputs": [
    {
     "name": "stdout",
     "output_type": "stream",
     "text": [
      "fake news count for author  nan  :  1931\n",
      "Reliable news count for author  nan  :  26\n",
      "fake news count for author  Reuters  :  2\n",
      "Reliable news count for author  Reuters  :  4\n",
      "fake news count for author  Pam Key  :  1\n",
      "Reliable news count for author  Pam Key  :  242\n",
      "fake news count for author  Ann Coulter  :  5\n",
      "Reliable news count for author  Ann Coulter  :  16\n",
      "fake news count for author  AFP  :  1\n",
      "Reliable news count for author  AFP  :  2\n",
      "fake news count for author  Pamela Geller  :  4\n",
      "Reliable news count for author  Pamela Geller  :  1\n"
     ]
    }
   ],
   "source": [
    "for key in unreliable_authors:\n",
    "    print(\"fake news count for author \", key, \" : \", fake_news_author[key])\n",
    "    print(\"Reliable news count for author \", key, \" : \", reliable_news_authors[key])"
   ]
  },
  {
   "cell_type": "code",
   "execution_count": 9,
   "metadata": {
    "execution": {
     "iopub.execute_input": "2020-12-05T05:21:11.663474Z",
     "iopub.status.busy": "2020-12-05T05:21:11.662326Z",
     "iopub.status.idle": "2020-12-05T05:21:11.666903Z",
     "shell.execute_reply": "2020-12-05T05:21:11.666275Z"
    },
    "papermill": {
     "duration": 0.040937,
     "end_time": "2020-12-05T05:21:11.667034",
     "exception": false,
     "start_time": "2020-12-05T05:21:11.626097",
     "status": "completed"
    },
    "tags": []
   },
   "outputs": [
    {
     "data": {
      "text/plain": [
       "1957"
      ]
     },
     "execution_count": 9,
     "metadata": {},
     "output_type": "execute_result"
    }
   ],
   "source": [
    "df.author.isna().sum()"
   ]
  },
  {
   "cell_type": "code",
   "execution_count": 10,
   "metadata": {
    "execution": {
     "iopub.execute_input": "2020-12-05T05:21:11.733611Z",
     "iopub.status.busy": "2020-12-05T05:21:11.732430Z",
     "iopub.status.idle": "2020-12-05T05:21:11.736897Z",
     "shell.execute_reply": "2020-12-05T05:21:11.737451Z"
    },
    "papermill": {
     "duration": 0.0425,
     "end_time": "2020-12-05T05:21:11.737627",
     "exception": false,
     "start_time": "2020-12-05T05:21:11.695127",
     "status": "completed"
    },
    "tags": []
   },
   "outputs": [
    {
     "data": {
      "text/plain": [
       "0.09408653846153846"
      ]
     },
     "execution_count": 10,
     "metadata": {},
     "output_type": "execute_result"
    }
   ],
   "source": [
    "df.author.isna().sum()/len(df.author)"
   ]
  },
  {
   "cell_type": "markdown",
   "metadata": {
    "papermill": {
     "duration": 0.028878,
     "end_time": "2020-12-05T05:21:11.795527",
     "exception": false,
     "start_time": "2020-12-05T05:21:11.766649",
     "status": "completed"
    },
    "tags": []
   },
   "source": [
    "# 9% data is a lot of data. Else we would have made a rule based classifier based on the names of authors."
   ]
  },
  {
   "cell_type": "code",
   "execution_count": 11,
   "metadata": {
    "execution": {
     "iopub.execute_input": "2020-12-05T05:21:11.868371Z",
     "iopub.status.busy": "2020-12-05T05:21:11.867274Z",
     "iopub.status.idle": "2020-12-05T05:21:11.874161Z",
     "shell.execute_reply": "2020-12-05T05:21:11.873236Z"
    },
    "papermill": {
     "duration": 0.049812,
     "end_time": "2020-12-05T05:21:11.874314",
     "exception": false,
     "start_time": "2020-12-05T05:21:11.824502",
     "status": "completed"
    },
    "tags": []
   },
   "outputs": [
    {
     "data": {
      "text/plain": [
       "(558, 39)"
      ]
     },
     "execution_count": 11,
     "metadata": {},
     "output_type": "execute_result"
    }
   ],
   "source": [
    "df.title.isna().sum(), df.text.isna().sum()"
   ]
  },
  {
   "cell_type": "code",
   "execution_count": 12,
   "metadata": {
    "execution": {
     "iopub.execute_input": "2020-12-05T05:21:11.950393Z",
     "iopub.status.busy": "2020-12-05T05:21:11.949410Z",
     "iopub.status.idle": "2020-12-05T05:21:11.954884Z",
     "shell.execute_reply": "2020-12-05T05:21:11.955995Z"
    },
    "papermill": {
     "duration": 0.052611,
     "end_time": "2020-12-05T05:21:11.956243",
     "exception": false,
     "start_time": "2020-12-05T05:21:11.903632",
     "status": "completed"
    },
    "tags": []
   },
   "outputs": [
    {
     "name": "stdout",
     "output_type": "stream",
     "text": [
      "missing data in title :  0.026826923076923078 \n",
      "missing data in text : 0.001875\n"
     ]
    }
   ],
   "source": [
    "print(\"missing data in title : \",df.title.isna().sum()/len(df.title), \"\\nmissing data in text :\",df.text.isna().sum()/len(df.text))"
   ]
  },
  {
   "cell_type": "markdown",
   "metadata": {
    "papermill": {
     "duration": 0.031696,
     "end_time": "2020-12-05T05:21:12.019029",
     "exception": false,
     "start_time": "2020-12-05T05:21:11.987333",
     "status": "completed"
    },
    "tags": []
   },
   "source": [
    "# 0.18% of text is missing. so we can think about dropping them. lets try to check the authers of those news and i which category they are. also lets check in which category the missing text news are."
   ]
  },
  {
   "cell_type": "code",
   "execution_count": 13,
   "metadata": {
    "execution": {
     "iopub.execute_input": "2020-12-05T05:21:12.097466Z",
     "iopub.status.busy": "2020-12-05T05:21:12.096310Z",
     "iopub.status.idle": "2020-12-05T05:21:12.101760Z",
     "shell.execute_reply": "2020-12-05T05:21:12.100929Z"
    },
    "papermill": {
     "duration": 0.051888,
     "end_time": "2020-12-05T05:21:12.101965",
     "exception": false,
     "start_time": "2020-12-05T05:21:12.050077",
     "status": "completed"
    },
    "tags": []
   },
   "outputs": [
    {
     "data": {
      "text/plain": [
       "(39,\n",
       " 1    39\n",
       " Name: label, dtype: int64)"
      ]
     },
     "execution_count": 13,
     "metadata": {},
     "output_type": "execute_result"
    }
   ],
   "source": [
    "df3 = df[df.text.isna()]\n",
    "len(df3.label), df3.label.value_counts()"
   ]
  },
  {
   "cell_type": "markdown",
   "metadata": {
    "papermill": {
     "duration": 0.030379,
     "end_time": "2020-12-05T05:21:12.163733",
     "exception": false,
     "start_time": "2020-12-05T05:21:12.133354",
     "status": "completed"
    },
    "tags": []
   },
   "source": [
    "# here we can create a rule where if the text is missing then the news is fake and missing auther confirms the fake news."
   ]
  },
  {
   "cell_type": "code",
   "execution_count": 14,
   "metadata": {
    "execution": {
     "iopub.execute_input": "2020-12-05T05:21:12.234298Z",
     "iopub.status.busy": "2020-12-05T05:21:12.233380Z",
     "iopub.status.idle": "2020-12-05T05:21:12.242786Z",
     "shell.execute_reply": "2020-12-05T05:21:12.242009Z"
    },
    "papermill": {
     "duration": 0.048447,
     "end_time": "2020-12-05T05:21:12.242933",
     "exception": false,
     "start_time": "2020-12-05T05:21:12.194486",
     "status": "completed"
    },
    "tags": []
   },
   "outputs": [
    {
     "data": {
      "text/plain": [
       "1    558\n",
       "Name: label, dtype: int64"
      ]
     },
     "execution_count": 14,
     "metadata": {},
     "output_type": "execute_result"
    }
   ],
   "source": [
    "df4 = df[df.title.isna()]\n",
    "df4.label.value_counts()"
   ]
  },
  {
   "cell_type": "markdown",
   "metadata": {
    "papermill": {
     "duration": 0.030858,
     "end_time": "2020-12-05T05:21:12.305198",
     "exception": false,
     "start_time": "2020-12-05T05:21:12.274340",
     "status": "completed"
    },
    "tags": []
   },
   "source": [
    "# here we get another similar insight that if the title is missing then the news is fake"
   ]
  },
  {
   "cell_type": "markdown",
   "metadata": {
    "papermill": {
     "duration": 0.030894,
     "end_time": "2020-12-05T05:21:12.367391",
     "exception": false,
     "start_time": "2020-12-05T05:21:12.336497",
     "status": "completed"
    },
    "tags": []
   },
   "source": [
    "# Lets try to create a rule based system to classify the test data"
   ]
  },
  {
   "cell_type": "code",
   "execution_count": 15,
   "metadata": {
    "execution": {
     "iopub.execute_input": "2020-12-05T05:21:12.438241Z",
     "iopub.status.busy": "2020-12-05T05:21:12.436884Z",
     "iopub.status.idle": "2020-12-05T05:21:12.442374Z",
     "shell.execute_reply": "2020-12-05T05:21:12.441719Z"
    },
    "papermill": {
     "duration": 0.043828,
     "end_time": "2020-12-05T05:21:12.442572",
     "exception": false,
     "start_time": "2020-12-05T05:21:12.398744",
     "status": "completed"
    },
    "tags": []
   },
   "outputs": [
    {
     "data": {
      "text/plain": [
       "(5200, 5200)"
      ]
     },
     "execution_count": 15,
     "metadata": {},
     "output_type": "execute_result"
    }
   ],
   "source": [
    "len(df_sub),len(df_test)"
   ]
  },
  {
   "cell_type": "code",
   "execution_count": 16,
   "metadata": {
    "execution": {
     "iopub.execute_input": "2020-12-05T05:21:12.518653Z",
     "iopub.status.busy": "2020-12-05T05:21:12.517774Z",
     "iopub.status.idle": "2020-12-05T05:21:12.523228Z",
     "shell.execute_reply": "2020-12-05T05:21:12.522449Z"
    },
    "papermill": {
     "duration": 0.048528,
     "end_time": "2020-12-05T05:21:12.523374",
     "exception": false,
     "start_time": "2020-12-05T05:21:12.474846",
     "status": "completed"
    },
    "tags": []
   },
   "outputs": [
    {
     "data": {
      "text/plain": [
       "(122, 503, 7)"
      ]
     },
     "execution_count": 16,
     "metadata": {},
     "output_type": "execute_result"
    }
   ],
   "source": [
    "df_test.title.isna().sum(), df_test.author.isna().sum(), df_test.text.isna().sum()"
   ]
  },
  {
   "cell_type": "markdown",
   "metadata": {
    "papermill": {
     "duration": 0.032167,
     "end_time": "2020-12-05T05:21:12.587998",
     "exception": false,
     "start_time": "2020-12-05T05:21:12.555831",
     "status": "completed"
    },
    "tags": []
   },
   "source": [
    "# The test data is also having the null values. SO let's write RULES to classify test data."
   ]
  },
  {
   "cell_type": "code",
   "execution_count": 17,
   "metadata": {
    "execution": {
     "iopub.execute_input": "2020-12-05T05:21:12.660871Z",
     "iopub.status.busy": "2020-12-05T05:21:12.659860Z",
     "iopub.status.idle": "2020-12-05T05:21:12.664769Z",
     "shell.execute_reply": "2020-12-05T05:21:12.664076Z"
    },
    "papermill": {
     "duration": 0.042999,
     "end_time": "2020-12-05T05:21:12.664898",
     "exception": false,
     "start_time": "2020-12-05T05:21:12.621899",
     "status": "completed"
    },
    "tags": []
   },
   "outputs": [
    {
     "data": {
      "text/plain": [
       "Index(['id', 'title', 'author', 'text'], dtype='object')"
      ]
     },
     "execution_count": 17,
     "metadata": {},
     "output_type": "execute_result"
    }
   ],
   "source": [
    "df_test.columns"
   ]
  },
  {
   "cell_type": "markdown",
   "metadata": {
    "papermill": {
     "duration": 0.032682,
     "end_time": "2020-12-05T05:21:12.730819",
     "exception": false,
     "start_time": "2020-12-05T05:21:12.698137",
     "status": "completed"
    },
    "tags": []
   },
   "source": [
    "# Rules based on the prior observations"
   ]
  },
  {
   "cell_type": "code",
   "execution_count": 18,
   "metadata": {
    "execution": {
     "iopub.execute_input": "2020-12-05T05:21:12.812919Z",
     "iopub.status.busy": "2020-12-05T05:21:12.810013Z",
     "iopub.status.idle": "2020-12-05T05:21:13.325514Z",
     "shell.execute_reply": "2020-12-05T05:21:13.324573Z"
    },
    "papermill": {
     "duration": 0.561893,
     "end_time": "2020-12-05T05:21:13.325674",
     "exception": false,
     "start_time": "2020-12-05T05:21:12.763781",
     "status": "completed"
    },
    "tags": []
   },
   "outputs": [],
   "source": [
    "\n",
    "for i in range(len(df_sub.id)):\n",
    "    flag_check = True\n",
    "    if df_test['author'][i] in unreliable_authors:\n",
    "        try:\n",
    "            if math.isnan(df_test.text[i]):\n",
    "                df_sub['label'][i] = 1\n",
    "                flag_check = False\n",
    "        except TypeError as e:\n",
    "#             print(e)\n",
    "            try:\n",
    "                if math.isnan(df_test['title'][i]):\n",
    "                    df_sub['label'][i] = 1\n",
    "                    flag_check = False\n",
    "            except TypeError as e:\n",
    "                pass\n",
    "#                 print(e)\n",
    "        if flag_check:\n",
    "            df_sub['label'][i] = random.randint(0, 1)\n",
    "    elif df_test['author'][i] in fake_news_author:\n",
    "        df_sub['label'][i] = 1\n",
    "    else:\n",
    "        df_sub['label'][i] = 0\n",
    "        "
   ]
  },
  {
   "cell_type": "code",
   "execution_count": 19,
   "metadata": {
    "execution": {
     "iopub.execute_input": "2020-12-05T05:21:13.403624Z",
     "iopub.status.busy": "2020-12-05T05:21:13.402716Z",
     "iopub.status.idle": "2020-12-05T05:21:13.412725Z",
     "shell.execute_reply": "2020-12-05T05:21:13.411882Z"
    },
    "papermill": {
     "duration": 0.053726,
     "end_time": "2020-12-05T05:21:13.412878",
     "exception": false,
     "start_time": "2020-12-05T05:21:13.359152",
     "status": "completed"
    },
    "tags": []
   },
   "outputs": [
    {
     "data": {
      "text/html": [
       "<div>\n",
       "<style scoped>\n",
       "    .dataframe tbody tr th:only-of-type {\n",
       "        vertical-align: middle;\n",
       "    }\n",
       "\n",
       "    .dataframe tbody tr th {\n",
       "        vertical-align: top;\n",
       "    }\n",
       "\n",
       "    .dataframe thead th {\n",
       "        text-align: right;\n",
       "    }\n",
       "</style>\n",
       "<table border=\"1\" class=\"dataframe\">\n",
       "  <thead>\n",
       "    <tr style=\"text-align: right;\">\n",
       "      <th></th>\n",
       "      <th>id</th>\n",
       "      <th>label</th>\n",
       "    </tr>\n",
       "  </thead>\n",
       "  <tbody>\n",
       "    <tr>\n",
       "      <th>0</th>\n",
       "      <td>20800</td>\n",
       "      <td>0</td>\n",
       "    </tr>\n",
       "    <tr>\n",
       "      <th>1</th>\n",
       "      <td>20801</td>\n",
       "      <td>1</td>\n",
       "    </tr>\n",
       "    <tr>\n",
       "      <th>2</th>\n",
       "      <td>20802</td>\n",
       "      <td>0</td>\n",
       "    </tr>\n",
       "    <tr>\n",
       "      <th>3</th>\n",
       "      <td>20803</td>\n",
       "      <td>0</td>\n",
       "    </tr>\n",
       "    <tr>\n",
       "      <th>4</th>\n",
       "      <td>20804</td>\n",
       "      <td>1</td>\n",
       "    </tr>\n",
       "  </tbody>\n",
       "</table>\n",
       "</div>"
      ],
      "text/plain": [
       "      id  label\n",
       "0  20800      0\n",
       "1  20801      1\n",
       "2  20802      0\n",
       "3  20803      0\n",
       "4  20804      1"
      ]
     },
     "execution_count": 19,
     "metadata": {},
     "output_type": "execute_result"
    }
   ],
   "source": [
    "df_sub.head()"
   ]
  },
  {
   "cell_type": "code",
   "execution_count": 20,
   "metadata": {
    "execution": {
     "iopub.execute_input": "2020-12-05T05:21:13.487843Z",
     "iopub.status.busy": "2020-12-05T05:21:13.486916Z",
     "iopub.status.idle": "2020-12-05T05:21:13.909909Z",
     "shell.execute_reply": "2020-12-05T05:21:13.909001Z"
    },
    "papermill": {
     "duration": 0.46303,
     "end_time": "2020-12-05T05:21:13.910069",
     "exception": false,
     "start_time": "2020-12-05T05:21:13.447039",
     "status": "completed"
    },
    "tags": []
   },
   "outputs": [],
   "source": [
    "df_sub.to_csv('submission.csv', index = False)"
   ]
  },
  {
   "cell_type": "markdown",
   "metadata": {
    "papermill": {
     "duration": 0.037441,
     "end_time": "2020-12-05T05:21:13.983171",
     "exception": false,
     "start_time": "2020-12-05T05:21:13.945730",
     "status": "completed"
    },
    "tags": []
   },
   "source": [
    "# Conclusion\n",
    "\n",
    "* The Rule based approach should be able to classify the 85% of the train data correctly. \n",
    "* Here we know the factors that cause the news to be fake viz., \n",
    "    * the set of Authors who spread the fake news, \n",
    "    * the absence of Text, \n",
    "    * the absence of Title.\n",
    "* Let's try to improve upon the accuracy of this kernel by using ML/DL approaches."
   ]
  }
 ],
 "metadata": {
  "kernelspec": {
   "display_name": "Python 3",
   "language": "python",
   "name": "python3"
  },
  "language_info": {
   "codemirror_mode": {
    "name": "ipython",
    "version": 3
   },
   "file_extension": ".py",
   "mimetype": "text/x-python",
   "name": "python",
   "nbconvert_exporter": "python",
   "pygments_lexer": "ipython3",
   "version": "3.7.6"
  },
  "papermill": {
   "duration": 11.587358,
   "end_time": "2020-12-05T05:21:14.132991",
   "environment_variables": {},
   "exception": null,
   "input_path": "__notebook__.ipynb",
   "output_path": "__notebook__.ipynb",
   "parameters": {},
   "start_time": "2020-12-05T05:21:02.545633",
   "version": "2.1.0"
  }
 },
 "nbformat": 4,
 "nbformat_minor": 4
}
